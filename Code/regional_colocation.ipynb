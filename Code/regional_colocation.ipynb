{
 "cells": [
  {
   "cell_type": "code",
   "execution_count": 1,
   "id": "6cda8231-534d-4791-84dc-0cb57f2263cd",
   "metadata": {},
   "outputs": [
    {
     "name": "stdout",
     "output_type": "stream",
     "text": [
      "Requirement already satisfied: geopandas in /opt/conda/lib/python3.10/site-packages (1.0.1)\n",
      "Requirement already satisfied: shapely>=2.0.0 in /opt/conda/lib/python3.10/site-packages (from geopandas) (2.0.6)\n",
      "Requirement already satisfied: pyproj>=3.3.0 in /opt/conda/lib/python3.10/site-packages (from geopandas) (3.7.0)\n",
      "Requirement already satisfied: pandas>=1.4.0 in /opt/conda/lib/python3.10/site-packages (from geopandas) (1.4.3)\n",
      "Requirement already satisfied: numpy>=1.22 in /opt/conda/lib/python3.10/site-packages (from geopandas) (1.22.4)\n",
      "Requirement already satisfied: pyogrio>=0.7.2 in /opt/conda/lib/python3.10/site-packages (from geopandas) (0.10.0)\n",
      "Requirement already satisfied: packaging in /opt/conda/lib/python3.10/site-packages (from geopandas) (21.3)\n",
      "Requirement already satisfied: python-dateutil>=2.8.1 in /opt/conda/lib/python3.10/site-packages (from pandas>=1.4.0->geopandas) (2.8.2)\n",
      "Requirement already satisfied: pytz>=2020.1 in /opt/conda/lib/python3.10/site-packages (from pandas>=1.4.0->geopandas) (2022.1)\n",
      "Requirement already satisfied: certifi in /opt/conda/lib/python3.10/site-packages (from pyogrio>=0.7.2->geopandas) (2022.6.15)\n",
      "Requirement already satisfied: pyparsing!=3.0.5,>=2.0.2 in /opt/conda/lib/python3.10/site-packages (from packaging->geopandas) (3.0.9)\n",
      "Requirement already satisfied: six>=1.5 in /opt/conda/lib/python3.10/site-packages (from python-dateutil>=2.8.1->pandas>=1.4.0->geopandas) (1.16.0)\n"
     ]
    }
   ],
   "source": [
    "# g++ -O3 -shared -o c_functions.so -fPIC c_functions.cpp\n",
    "try:\n",
    "    import pandas as pd\n",
    "    import numpy as np\n",
    "    import math\n",
    "    import csv\n",
    "    import ctypes\n",
    "    import os\n",
    "    import geopandas as gpd\n",
    "    from rtree import index\n",
    "    from itertools import combinations\n",
    "    import time\n",
    "except:\n",
    "    !pip install geopandas"
   ]
  },
  {
   "cell_type": "code",
   "execution_count": 2,
   "id": "a5ff4848-cbc6-42fc-9864-4a514db4cb29",
   "metadata": {},
   "outputs": [],
   "source": [
    "library = ctypes.CDLL('./functions.so')"
   ]
  },
  {
   "cell_type": "code",
   "execution_count": 3,
   "id": "5cf468ed-5fad-44ec-9c22-d82e8dfa5813",
   "metadata": {},
   "outputs": [],
   "source": [
    "import time\n",
    "start = time.time()"
   ]
  },
  {
   "cell_type": "code",
   "execution_count": 4,
   "id": "11b971b2-44fd-4d5e-abdb-b0088eefd63f",
   "metadata": {},
   "outputs": [
    {
     "name": "stdout",
     "output_type": "stream",
     "text": [
      "Degree 2 Prevalent Patterns for Sub-Region 0:\n",
      "(0, 1)\n",
      "(0, 2)\n",
      "(0, 3)\n",
      "(0, 6)\n",
      "(1, 2)\n",
      "(1, 3)\n",
      "(1, 6)\n",
      "(2, 3)\n",
      "(2, 6)\n",
      "(3, 6)\n",
      "Degree 3 Prevalent Patterns for Sub-Region 0: \n",
      "(0, 1, 2)\n",
      "(0, 2, 3)\n",
      "(0, 2, 6)\n",
      "(1, 2, 3)\n",
      "Degree 2 Prevalent Patterns for Sub-Region 1:\n",
      "(0, 1)\n",
      "(0, 2)\n",
      "(0, 3)\n",
      "(0, 6)\n",
      "(1, 2)\n",
      "(1, 3)\n",
      "(2, 3)\n",
      "(2, 6)\n",
      "(3, 6)\n",
      "Degree 3 Prevalent Patterns for Sub-Region 1: \n",
      "(0, 1, 2)\n",
      "(0, 2, 3)\n",
      "(0, 2, 6)\n",
      "(0, 3, 6)\n",
      "(1, 2, 3)\n",
      "(2, 3, 6)\n",
      "Degree 4 Prevalent Patterns for Sub-Region 1: \n",
      "(0, 2, 3, 6)\n"
     ]
    },
    {
     "data": {
      "text/plain": [
       "0"
      ]
     },
     "execution_count": 4,
     "metadata": {},
     "output_type": "execute_result"
    }
   ],
   "source": [
    "#s = time.time()\n",
    "library.subregion_main()\n",
    "#e = time.time()\n",
    "#print(\"ENTIRE SUBREGION_MAIN PROCESSING:\", e - s)"
   ]
  },
  {
   "cell_type": "code",
   "execution_count": null,
   "id": "69174bab-231f-4081-997a-7fe5aa90f0be",
   "metadata": {},
   "outputs": [
    {
     "data": {
      "text/plain": [
       "5"
      ]
     },
     "execution_count": 5,
     "metadata": {},
     "output_type": "execute_result"
    }
   ],
   "source": [
    "#s = time.time()\n",
    "# Parameters: These are the only things that need to be changed\n",
    "# parameters: distance_threshold, prevalance_threshold\n",
    "distance_threshold = 16\n",
    "prevalence_threshold = 0.55    # set the prevalence threshold\n",
    "# shapefile path to determine border points\n",
    "shapefile_path = '/Data/Region6/shapefile'\n",
    "directory_path = '/Data/Region6'\n",
    "subregions = []\n",
    "dataframes = []\n",
    "offsets = [0]\n",
    "number_subregions = 0\n",
    "for filename in os.listdir(directory_path):\n",
    "    if filename.endswith(\".csv\"):\n",
    "        file_path = os.path.join(directory_path, filename)\n",
    "        df = pd.read_csv(file_path)\n",
    "        df.index = range(offsets[number_subregions], offsets[number_subregions] + len(df))  # apply the offset\n",
    "        offsets.append(df.shape[number_subregions])\n",
    "        dataframes.append(df)\n",
    "        number_subregions += 1\n",
    "        \n",
    "offsets.pop()\n",
    "#e = time.time()\n",
    "#print(\"PROCESSING (SEC):\", e - s)"
   ]
  },
  {
   "cell_type": "code",
   "execution_count": 7,
   "id": "0fb6ca70-283d-4b32-ab51-a56806438fbc",
   "metadata": {},
   "outputs": [],
   "source": [
    "# This class holds the information pertaining to the border region\n",
    "class Border:\n",
    "    def __init__(self):\n",
    "        self.combined_df = pd.DataFrame()\n",
    "        self.border_df = pd.DataFrame()"
   ]
  },
  {
   "cell_type": "code",
   "execution_count": 8,
   "id": "f78221a5-ee00-48ff-b20b-7f6fc6c5322e",
   "metadata": {},
   "outputs": [],
   "source": [
    "#s = time.time()\n",
    "border = Border()\n",
    "border.combined_df = pd.concat(dataframes, ignore_index=True)\n",
    "border.combined_df['ID'] = border.combined_df.index\n",
    "\n",
    "# sort the df by featureType\n",
    "border.combined_df = border.combined_df.sort_values(by='featureType', ignore_index=True)"
   ]
  },
  {
   "cell_type": "code",
   "execution_count": 9,
   "id": "857e5144-916f-4bff-a31e-a58f7c05458c",
   "metadata": {},
   "outputs": [],
   "source": [
    "shapefile = gpd.read_file(shapefile_path)\n",
    "points = np.array(border.combined_df[['latitude', 'longitude']])\n",
    "points_gdf = gpd.GeoDataFrame(geometry=gpd.points_from_xy(points[:, 1], points[:, 0]))\n",
    "points_gdf = points_gdf.set_crs(\"EPSG:4326\")\n",
    "shapefile = shapefile.to_crs(\"EPSG:4326\")"
   ]
  },
  {
   "cell_type": "code",
   "execution_count": 10,
   "id": "f8d84d15-ae1a-448d-adbb-27c988186c06",
   "metadata": {},
   "outputs": [],
   "source": [
    "featureType = []\n",
    "x = []\n",
    "y = []\n",
    "ID = []\n",
    "curr_index = 0\n",
    "for point in points_gdf.geometry:\n",
    "    # Convert radius from kilometers to degrees (assuming a spherical Earth)\n",
    "    radius_deg = distance_threshold / 111.32  # Approximately 111.32 km per degree of latitude\n",
    "    # Create a circle geometry\n",
    "    circle = point.buffer(radius_deg)\n",
    "    \n",
    "    # Find the borders that the point intersects\n",
    "    intersected_borders = [border for border in shapefile['geometry'] if circle.intersects(border)]\n",
    "    \n",
    "    if len(intersected_borders) >= 2:\n",
    "        featureType.append(border.combined_df['featureType'].iloc[curr_index])\n",
    "        x.append(border.combined_df['xCoordinate'].iloc[curr_index])\n",
    "        y.append(border.combined_df['yCoordinate'].iloc[curr_index])\n",
    "        ID.append(border.combined_df['ID'].iloc[curr_index])\n",
    "    curr_index += 1"
   ]
  },
  {
   "cell_type": "code",
   "execution_count": 11,
   "id": "a64ad07e-6b13-44a0-b6c6-f4202fa5369d",
   "metadata": {},
   "outputs": [],
   "source": [
    "border.border_df = pd.DataFrame({\n",
    "    'featureType': featureType,\n",
    "    'xCoordinate': x,\n",
    "    'yCoordinate': y,\n",
    "    'ID': ID})"
   ]
  },
  {
   "cell_type": "code",
   "execution_count": 12,
   "id": "35f73c69-833f-4eb0-a8f6-b3824aec6a3f",
   "metadata": {},
   "outputs": [],
   "source": [
    "ids = border.border_df['ID'].to_list()"
   ]
  },
  {
   "cell_type": "code",
   "execution_count": null,
   "id": "80a91f3a-6954-4211-83ce-a24d2a45bcf2",
   "metadata": {},
   "outputs": [],
   "source": [
    "border.border_df.to_csv(\"/IntermediateData/border.csv\", index=False)\n",
    "#e = time.time()\n",
    "#print(\"BORDER REGION CALCULATION (SEC): \", e - s)"
   ]
  },
  {
   "cell_type": "code",
   "execution_count": 14,
   "id": "30c3bd97-d269-4528-9e9e-b0b497e36a88",
   "metadata": {},
   "outputs": [
    {
     "name": "stdout",
     "output_type": "stream",
     "text": [
      "Degree 2 Prevalent Patterns for Sub-Region 0:\n",
      "(0, 1)\n",
      "(0, 2)\n",
      "(0, 3)\n",
      "(0, 6)\n"
     ]
    },
    {
     "data": {
      "text/plain": [
       "0"
      ]
     },
     "execution_count": 14,
     "metadata": {},
     "output_type": "execute_result"
    },
    {
     "name": "stdout",
     "output_type": "stream",
     "text": [
      "(1, 2)\n",
      "(1, 3)\n",
      "(2, 3)\n",
      "(2, 6)\n"
     ]
    }
   ],
   "source": [
    "#s = time.time()\n",
    "number_borders = 1\n",
    "library.border_main(ctypes.c_int(number_borders))\n",
    "#e = time.time()\n",
    "#print(\"ENTIRE BORDER MAIN:\", e - s)"
   ]
  },
  {
   "cell_type": "code",
   "execution_count": 15,
   "id": "ab93c36d-4380-45d9-9f5e-36179d3d3e0e",
   "metadata": {},
   "outputs": [
    {
     "data": {
      "text/plain": [
       "0"
      ]
     },
     "execution_count": 15,
     "metadata": {},
     "output_type": "execute_result"
    }
   ],
   "source": [
    "#s = time.time()\n",
    "arr_len = len(ids)\n",
    "arr_type = ctypes.c_int * arr_len\n",
    "arr_c = arr_type(*ids)\n",
    "border_number = 0\n",
    "library.update_border_info.argtypes = (ctypes.POINTER(ctypes.c_int), ctypes.c_int, ctypes.c_int)\n",
    "library.update_border_info(arr_c, arr_len, border_number)"
   ]
  },
  {
   "cell_type": "code",
   "execution_count": 16,
   "id": "56601572-096a-4ff0-9b1f-884f08229e08",
   "metadata": {},
   "outputs": [
    {
     "data": {
      "text/plain": [
       "0"
      ]
     },
     "execution_count": 16,
     "metadata": {},
     "output_type": "execute_result"
    }
   ],
   "source": [
    "library.combine_hashmaps.argtypes = (ctypes.c_int, ctypes.c_int)\n",
    "library.combine_hashmaps(number_subregions, number_borders)"
   ]
  },
  {
   "cell_type": "code",
   "execution_count": 17,
   "id": "1428f818-3216-40d8-b7ce-6c36bdfb1d19",
   "metadata": {
    "tags": []
   },
   "outputs": [
    {
     "data": {
      "text/plain": [
       "0"
      ]
     },
     "execution_count": 17,
     "metadata": {},
     "output_type": "execute_result"
    }
   ],
   "source": [
    "library.combine_instance_tables.argtypes = (ctypes.c_int, ctypes.c_int)\n",
    "library.combine_instance_tables(number_subregions, number_borders)\n",
    "#e = time.time()\n",
    "#print(\"UPDATE BORDER INFO / COMBINE INSTANCE TABLE / HASHMAP (SEC):\", e - s)"
   ]
  },
  {
   "cell_type": "code",
   "execution_count": 18,
   "id": "c0927648-d3e1-4d45-9d60-8a6c8c9d30ed",
   "metadata": {},
   "outputs": [
    {
     "name": "stdout",
     "output_type": "stream",
     "text": [
      "Degree 2 Prevalent Patterns for Entire Region:\n",
      "(0, 1)\n",
      "(0, 3)\n",
      "(0, 6)\n",
      "(1, 3)\n",
      "(2, 3)\n",
      "(3, 6)\n",
      "(1, 2)\n",
      "(0, 2)\n",
      "(2, 6)\n",
      "Degree 3 Prevalent Patterns for Entire Region:\n",
      "(0, 1, 2)\n",
      "(0, 2, 3)\n",
      "(0, 2, 6)\n",
      "(0, 3, 6)\n",
      "(1, 2, 3)\n",
      "(2, 3, 6)\n",
      "Degree 4 Prevalent Patterns for Entire Region:\n",
      "(0, 2, 3, 6)\n"
     ]
    },
    {
     "data": {
      "text/plain": [
       "0"
      ]
     },
     "execution_count": 18,
     "metadata": {},
     "output_type": "execute_result"
    }
   ],
   "source": [
    "#s = time.time()\n",
    "library.region_main()\n",
    "#e = time.time()\n",
    "#print(\"ENTIRE REGION_MAIN (SEC):\", e - s)"
   ]
  },
  {
   "cell_type": "code",
   "execution_count": null,
   "id": "9347f0a0-8233-493f-939c-0bca2d505fd0",
   "metadata": {},
   "outputs": [],
   "source": [
    "end = time.time()"
   ]
  }
 ],
 "metadata": {
  "kernelspec": {
   "display_name": "Python 3 (ipykernel)",
   "language": "python",
   "name": "python3"
  },
  "language_info": {
   "codemirror_mode": {
    "name": "ipython",
    "version": 3
   },
   "file_extension": ".py",
   "mimetype": "text/x-python",
   "name": "python",
   "nbconvert_exporter": "python",
   "pygments_lexer": "ipython3",
   "version": "3.10.5"
  }
 },
 "nbformat": 4,
 "nbformat_minor": 5
}
