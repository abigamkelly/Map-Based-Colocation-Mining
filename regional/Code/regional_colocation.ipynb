{
 "cells": [
  {
   "cell_type": "code",
   "execution_count": 1,
   "id": "6cda8231-534d-4791-84dc-0cb57f2263cd",
   "metadata": {},
   "outputs": [],
   "source": [
    "# g++ -O3 -shared -o c_functions.so -fPIC c_functions.cpp\n",
    "try:\n",
    "    import pandas as pd\n",
    "    import numpy as np\n",
    "    import math\n",
    "    import csv\n",
    "    import ctypes\n",
    "    import os\n",
    "    import geopandas as gpd\n",
    "    from rtree import index\n",
    "    from itertools import combinations\n",
    "    import time\n",
    "except:\n",
    "    !pip install geopandas"
   ]
  },
  {
   "cell_type": "code",
   "execution_count": 2,
   "id": "b5018470-8bd2-4178-9de9-b82625143178",
   "metadata": {},
   "outputs": [],
   "source": [
    "!rm -f gmon.out"
   ]
  },
  {
   "cell_type": "code",
   "execution_count": 3,
   "id": "a5ff4848-cbc6-42fc-9864-4a514db4cb29",
   "metadata": {},
   "outputs": [],
   "source": [
    "library = ctypes.CDLL('./functions.so')"
   ]
  },
  {
   "cell_type": "code",
   "execution_count": 4,
   "id": "5cf468ed-5fad-44ec-9c22-d82e8dfa5813",
   "metadata": {},
   "outputs": [],
   "source": [
    "start = time.time()"
   ]
  },
  {
   "cell_type": "code",
   "execution_count": 5,
   "id": "11b971b2-44fd-4d5e-abdb-b0088eefd63f",
   "metadata": {},
   "outputs": [
    {
     "name": "stdout",
     "output_type": "stream",
     "text": [
      "Degree 2 Prevalent Patterns for Sub-Region 0:\n",
      "(0, 1)\n",
      "(0, 2)\n",
      "(0, 3)\n",
      "(0, 7)\n",
      "(1, 2)\n",
      "(1, 4)\n",
      "(1, 7)\n",
      "(2, 3)\n",
      "(2, 5)\n",
      "(2, 7)\n",
      "(3, 7)\n",
      "Degree 3 Prevalent Patterns for Sub-Region 0: \n",
      "(0, 1, 2)\n",
      "(0, 2, 3)\n",
      "(1, 2, 7)\n",
      "Degree 2 Prevalent Patterns for Sub-Region 1:\n",
      "(0, 1)\n",
      "(0, 2)\n",
      "(0, 6)\n",
      "(1, 6)\n",
      "(2, 6)\n",
      "(2, 8)\n",
      "(3, 5)\n",
      "SUBREGION PROCESSING: 1.2268645763397217 SEC\n"
     ]
    }
   ],
   "source": [
    "s = time.time()\n",
    "library.subregion_main()\n",
    "e = time.time()\n",
    "print(\"SUBREGION PROCESSING:\", e - s, \"SEC\")"
   ]
  },
  {
   "cell_type": "code",
   "execution_count": 6,
   "id": "69174bab-231f-4081-997a-7fe5aa90f0be",
   "metadata": {},
   "outputs": [
    {
     "name": "stdout",
     "output_type": "stream",
     "text": [
      "PREPROCESS: 0.007802486419677734 SEC\n"
     ]
    }
   ],
   "source": [
    "s = time.time()\n",
    "# Parameters: These are the only things that need to be changed\n",
    "# parameters: distance_threshold, prevalance_threshold\n",
    "distance_threshold = 71.22\n",
    "prevalence_threshold = 0.55    # set the prevalence threshold\n",
    "# shapefile path to determine border points\n",
    "shapefile_path = '/home/amk7r/colocation_mining/updated_regional/Data/Region1/shapefile'\n",
    "directory_path = '/home/amk7r/colocation_mining/updated_regional/Data/Region1'\n",
    "subregions = []\n",
    "dataframes = []\n",
    "offsets = [0]\n",
    "number_subregions = 0\n",
    "for filename in os.listdir(directory_path):\n",
    "    if filename.endswith(\".csv\"):\n",
    "        file_path = os.path.join(directory_path, filename)\n",
    "        df = pd.read_csv(file_path)\n",
    "        df.index = range(offsets[number_subregions], offsets[number_subregions] + len(df))  # apply the offset\n",
    "        offsets.append(df.shape[number_subregions])\n",
    "        dataframes.append(df)\n",
    "        number_subregions += 1\n",
    "        \n",
    "offsets.pop()\n",
    "e = time.time()\n",
    "print(\"PREPROCESS:\", e - s, \"SEC\")"
   ]
  },
  {
   "cell_type": "code",
   "execution_count": 7,
   "id": "0fb6ca70-283d-4b32-ab51-a56806438fbc",
   "metadata": {},
   "outputs": [],
   "source": [
    "# This class holds the information pertaining to the border region\n",
    "class Border:\n",
    "    def __init__(self):\n",
    "        self.combined_df = pd.DataFrame()\n",
    "        self.border_df = pd.DataFrame()"
   ]
  },
  {
   "cell_type": "code",
   "execution_count": 8,
   "id": "f78221a5-ee00-48ff-b20b-7f6fc6c5322e",
   "metadata": {},
   "outputs": [],
   "source": [
    "s = time.time()\n",
    "border = Border()\n",
    "border.combined_df = pd.concat(dataframes, ignore_index=True)\n",
    "border.combined_df['ID'] = border.combined_df.index\n",
    "\n",
    "# sort the df by featureType\n",
    "border.combined_df = border.combined_df.sort_values(by='featureType', ignore_index=True)"
   ]
  },
  {
   "cell_type": "code",
   "execution_count": 9,
   "id": "f92ffab0-ee43-4226-abfe-f7fecba9f7ba",
   "metadata": {},
   "outputs": [
    {
     "data": {
      "text/html": [
       "<div>\n",
       "<style scoped>\n",
       "    .dataframe tbody tr th:only-of-type {\n",
       "        vertical-align: middle;\n",
       "    }\n",
       "\n",
       "    .dataframe tbody tr th {\n",
       "        vertical-align: top;\n",
       "    }\n",
       "\n",
       "    .dataframe thead th {\n",
       "        text-align: right;\n",
       "    }\n",
       "</style>\n",
       "<table border=\"1\" class=\"dataframe\">\n",
       "  <thead>\n",
       "    <tr style=\"text-align: right;\">\n",
       "      <th></th>\n",
       "      <th>featureType</th>\n",
       "      <th>latitude</th>\n",
       "      <th>longitude</th>\n",
       "      <th>xCoordinate</th>\n",
       "      <th>yCoordinate</th>\n",
       "      <th>ID</th>\n",
       "    </tr>\n",
       "  </thead>\n",
       "  <tbody>\n",
       "    <tr>\n",
       "      <th>0</th>\n",
       "      <td>0</td>\n",
       "      <td>34.607389</td>\n",
       "      <td>-86.979767</td>\n",
       "      <td>-9671.708811</td>\n",
       "      <td>3848.166081</td>\n",
       "      <td>0</td>\n",
       "    </tr>\n",
       "    <tr>\n",
       "      <th>1</th>\n",
       "      <td>0</td>\n",
       "      <td>42.880273</td>\n",
       "      <td>-87.900801</td>\n",
       "      <td>-9774.123119</td>\n",
       "      <td>4768.068811</td>\n",
       "      <td>373</td>\n",
       "    </tr>\n",
       "    <tr>\n",
       "      <th>2</th>\n",
       "      <td>0</td>\n",
       "      <td>47.462201</td>\n",
       "      <td>-122.254239</td>\n",
       "      <td>-13594.051140</td>\n",
       "      <td>5277.555959</td>\n",
       "      <td>372</td>\n",
       "    </tr>\n",
       "    <tr>\n",
       "      <th>3</th>\n",
       "      <td>0</td>\n",
       "      <td>47.242603</td>\n",
       "      <td>-122.454338</td>\n",
       "      <td>-13616.301130</td>\n",
       "      <td>5253.137775</td>\n",
       "      <td>371</td>\n",
       "    </tr>\n",
       "    <tr>\n",
       "      <th>4</th>\n",
       "      <td>0</td>\n",
       "      <td>47.658780</td>\n",
       "      <td>-117.426047</td>\n",
       "      <td>-13057.180680</td>\n",
       "      <td>5299.414546</td>\n",
       "      <td>370</td>\n",
       "    </tr>\n",
       "    <tr>\n",
       "      <th>...</th>\n",
       "      <td>...</td>\n",
       "      <td>...</td>\n",
       "      <td>...</td>\n",
       "      <td>...</td>\n",
       "      <td>...</td>\n",
       "      <td>...</td>\n",
       "    </tr>\n",
       "    <tr>\n",
       "      <th>3547</th>\n",
       "      <td>8</td>\n",
       "      <td>25.774591</td>\n",
       "      <td>-80.214195</td>\n",
       "      <td>-8919.411529</td>\n",
       "      <td>2866.003756</td>\n",
       "      <td>2908</td>\n",
       "    </tr>\n",
       "    <tr>\n",
       "      <th>3548</th>\n",
       "      <td>8</td>\n",
       "      <td>25.774591</td>\n",
       "      <td>-80.214195</td>\n",
       "      <td>-8919.411529</td>\n",
       "      <td>2866.003756</td>\n",
       "      <td>2909</td>\n",
       "    </tr>\n",
       "    <tr>\n",
       "      <th>3549</th>\n",
       "      <td>8</td>\n",
       "      <td>27.946530</td>\n",
       "      <td>-82.459269</td>\n",
       "      <td>-9169.052368</td>\n",
       "      <td>3107.512353</td>\n",
       "      <td>2910</td>\n",
       "    </tr>\n",
       "    <tr>\n",
       "      <th>3550</th>\n",
       "      <td>8</td>\n",
       "      <td>14.540831</td>\n",
       "      <td>-92.220917</td>\n",
       "      <td>-10254.498100</td>\n",
       "      <td>1616.866636</td>\n",
       "      <td>3536</td>\n",
       "    </tr>\n",
       "    <tr>\n",
       "      <th>3551</th>\n",
       "      <td>8</td>\n",
       "      <td>20.970000</td>\n",
       "      <td>-89.620000</td>\n",
       "      <td>-9965.289326</td>\n",
       "      <td>2331.757612</td>\n",
       "      <td>3551</td>\n",
       "    </tr>\n",
       "  </tbody>\n",
       "</table>\n",
       "<p>3552 rows × 6 columns</p>\n",
       "</div>"
      ],
      "text/plain": [
       "      featureType   latitude   longitude   xCoordinate  yCoordinate    ID\n",
       "0               0  34.607389  -86.979767  -9671.708811  3848.166081     0\n",
       "1               0  42.880273  -87.900801  -9774.123119  4768.068811   373\n",
       "2               0  47.462201 -122.254239 -13594.051140  5277.555959   372\n",
       "3               0  47.242603 -122.454338 -13616.301130  5253.137775   371\n",
       "4               0  47.658780 -117.426047 -13057.180680  5299.414546   370\n",
       "...           ...        ...         ...           ...          ...   ...\n",
       "3547            8  25.774591  -80.214195  -8919.411529  2866.003756  2908\n",
       "3548            8  25.774591  -80.214195  -8919.411529  2866.003756  2909\n",
       "3549            8  27.946530  -82.459269  -9169.052368  3107.512353  2910\n",
       "3550            8  14.540831  -92.220917 -10254.498100  1616.866636  3536\n",
       "3551            8  20.970000  -89.620000  -9965.289326  2331.757612  3551\n",
       "\n",
       "[3552 rows x 6 columns]"
      ]
     },
     "execution_count": 9,
     "metadata": {},
     "output_type": "execute_result"
    }
   ],
   "source": [
    "border.combined_df"
   ]
  },
  {
   "cell_type": "code",
   "execution_count": 10,
   "id": "857e5144-916f-4bff-a31e-a58f7c05458c",
   "metadata": {},
   "outputs": [],
   "source": [
    "shapefile = gpd.read_file(shapefile_path)\n",
    "points = np.array(border.combined_df[['latitude', 'longitude']])\n",
    "points_gdf = gpd.GeoDataFrame(geometry=gpd.points_from_xy(points[:, 1], points[:, 0]))\n",
    "points_gdf = points_gdf.set_crs(\"EPSG:4326\")\n",
    "shapefile = shapefile.to_crs(\"EPSG:4326\")"
   ]
  },
  {
   "cell_type": "code",
   "execution_count": 11,
   "id": "f8d84d15-ae1a-448d-adbb-27c988186c06",
   "metadata": {},
   "outputs": [],
   "source": [
    "featureType = []\n",
    "x = []\n",
    "y = []\n",
    "ID = []\n",
    "curr_index = 0\n",
    "for point in points_gdf.geometry:\n",
    "    # Convert radius from kilometers to degrees (assuming a spherical Earth)\n",
    "    radius_deg = distance_threshold / 111.32  # Approximately 111.32 km per degree of latitude\n",
    "    # Create a circle geometry\n",
    "    circle = point.buffer(radius_deg)\n",
    "    \n",
    "    # Find the borders that the point intersects\n",
    "    intersected_borders = [border for border in shapefile['geometry'] if circle.intersects(border)]\n",
    "    \n",
    "    if len(intersected_borders) >= 2:\n",
    "        featureType.append(border.combined_df['featureType'].iloc[curr_index])\n",
    "        x.append(border.combined_df['xCoordinate'].iloc[curr_index])\n",
    "        y.append(border.combined_df['yCoordinate'].iloc[curr_index])\n",
    "        ID.append(border.combined_df['ID'].iloc[curr_index])\n",
    "    curr_index += 1"
   ]
  },
  {
   "cell_type": "code",
   "execution_count": 12,
   "id": "a64ad07e-6b13-44a0-b6c6-f4202fa5369d",
   "metadata": {},
   "outputs": [],
   "source": [
    "border.border_df = pd.DataFrame({\n",
    "    'featureType': featureType,\n",
    "    'xCoordinate': x,\n",
    "    'yCoordinate': y,\n",
    "    'ID': ID})"
   ]
  },
  {
   "cell_type": "code",
   "execution_count": 13,
   "id": "9124ac08-760d-4614-8a6f-cd949c44a2e5",
   "metadata": {
    "tags": []
   },
   "outputs": [
    {
     "data": {
      "text/html": [
       "<div>\n",
       "<style scoped>\n",
       "    .dataframe tbody tr th:only-of-type {\n",
       "        vertical-align: middle;\n",
       "    }\n",
       "\n",
       "    .dataframe tbody tr th {\n",
       "        vertical-align: top;\n",
       "    }\n",
       "\n",
       "    .dataframe thead th {\n",
       "        text-align: right;\n",
       "    }\n",
       "</style>\n",
       "<table border=\"1\" class=\"dataframe\">\n",
       "  <thead>\n",
       "    <tr style=\"text-align: right;\">\n",
       "      <th></th>\n",
       "      <th>featureType</th>\n",
       "      <th>xCoordinate</th>\n",
       "      <th>yCoordinate</th>\n",
       "      <th>ID</th>\n",
       "    </tr>\n",
       "  </thead>\n",
       "  <tbody>\n",
       "    <tr>\n",
       "      <th>0</th>\n",
       "      <td>0</td>\n",
       "      <td>-13004.57470</td>\n",
       "      <td>3613.132698</td>\n",
       "      <td>2918</td>\n",
       "    </tr>\n",
       "    <tr>\n",
       "      <th>1</th>\n",
       "      <td>0</td>\n",
       "      <td>-13004.57470</td>\n",
       "      <td>3613.132698</td>\n",
       "      <td>2917</td>\n",
       "    </tr>\n",
       "    <tr>\n",
       "      <th>2</th>\n",
       "      <td>0</td>\n",
       "      <td>-13004.57470</td>\n",
       "      <td>3613.132698</td>\n",
       "      <td>2916</td>\n",
       "    </tr>\n",
       "    <tr>\n",
       "      <th>3</th>\n",
       "      <td>0</td>\n",
       "      <td>-13004.57503</td>\n",
       "      <td>3613.132809</td>\n",
       "      <td>2915</td>\n",
       "    </tr>\n",
       "    <tr>\n",
       "      <th>4</th>\n",
       "      <td>0</td>\n",
       "      <td>-13004.57503</td>\n",
       "      <td>3613.132809</td>\n",
       "      <td>2914</td>\n",
       "    </tr>\n",
       "    <tr>\n",
       "      <th>...</th>\n",
       "      <td>...</td>\n",
       "      <td>...</td>\n",
       "      <td>...</td>\n",
       "      <td>...</td>\n",
       "    </tr>\n",
       "    <tr>\n",
       "      <th>85</th>\n",
       "      <td>6</td>\n",
       "      <td>-10842.13160</td>\n",
       "      <td>2874.623141</td>\n",
       "      <td>3517</td>\n",
       "    </tr>\n",
       "    <tr>\n",
       "      <th>86</th>\n",
       "      <td>6</td>\n",
       "      <td>-13004.57470</td>\n",
       "      <td>3613.132698</td>\n",
       "      <td>3423</td>\n",
       "    </tr>\n",
       "    <tr>\n",
       "      <th>87</th>\n",
       "      <td>6</td>\n",
       "      <td>-12180.44382</td>\n",
       "      <td>3482.860836</td>\n",
       "      <td>3510</td>\n",
       "    </tr>\n",
       "    <tr>\n",
       "      <th>88</th>\n",
       "      <td>6</td>\n",
       "      <td>-13004.57470</td>\n",
       "      <td>3613.132698</td>\n",
       "      <td>3424</td>\n",
       "    </tr>\n",
       "    <tr>\n",
       "      <th>89</th>\n",
       "      <td>7</td>\n",
       "      <td>-11982.21741</td>\n",
       "      <td>3588.047345</td>\n",
       "      <td>2858</td>\n",
       "    </tr>\n",
       "  </tbody>\n",
       "</table>\n",
       "<p>90 rows × 4 columns</p>\n",
       "</div>"
      ],
      "text/plain": [
       "    featureType  xCoordinate  yCoordinate    ID\n",
       "0             0 -13004.57470  3613.132698  2918\n",
       "1             0 -13004.57470  3613.132698  2917\n",
       "2             0 -13004.57470  3613.132698  2916\n",
       "3             0 -13004.57503  3613.132809  2915\n",
       "4             0 -13004.57503  3613.132809  2914\n",
       "..          ...          ...          ...   ...\n",
       "85            6 -10842.13160  2874.623141  3517\n",
       "86            6 -13004.57470  3613.132698  3423\n",
       "87            6 -12180.44382  3482.860836  3510\n",
       "88            6 -13004.57470  3613.132698  3424\n",
       "89            7 -11982.21741  3588.047345  2858\n",
       "\n",
       "[90 rows x 4 columns]"
      ]
     },
     "execution_count": 13,
     "metadata": {},
     "output_type": "execute_result"
    }
   ],
   "source": [
    "border.border_df"
   ]
  },
  {
   "cell_type": "code",
   "execution_count": 14,
   "id": "35f73c69-833f-4eb0-a8f6-b3824aec6a3f",
   "metadata": {},
   "outputs": [],
   "source": [
    "ids = border.border_df['ID'].to_list()"
   ]
  },
  {
   "cell_type": "code",
   "execution_count": 15,
   "id": "80a91f3a-6954-4211-83ce-a24d2a45bcf2",
   "metadata": {},
   "outputs": [],
   "source": [
    "border.border_df.to_csv(\"/home/amk7r/colocation_mining/updated_regional/IntermediateData/border.csv\", index=False)"
   ]
  },
  {
   "cell_type": "code",
   "execution_count": 16,
   "id": "30c3bd97-d269-4528-9e9e-b0b497e36a88",
   "metadata": {},
   "outputs": [
    {
     "name": "stdout",
     "output_type": "stream",
     "text": [
      "enter\n",
      "Degree 2 Prevalent Patterns for Sub-Region 0:\n",
      "(0, 1)\n",
      "(0, 2)\n",
      "(0, 3)\n",
      "(0, 6)\n",
      "(1, 3)\n",
      "(1, 6)\n",
      "(2, 3)\n",
      "(2, 6)\n",
      "(3, 6)\n"
     ]
    },
    {
     "data": {
      "text/plain": [
       "0"
      ]
     },
     "execution_count": 16,
     "metadata": {},
     "output_type": "execute_result"
    }
   ],
   "source": [
    "number_borders = 1\n",
    "library.border_main(ctypes.c_int(number_borders))"
   ]
  },
  {
   "cell_type": "code",
   "execution_count": 17,
   "id": "ab93c36d-4380-45d9-9f5e-36179d3d3e0e",
   "metadata": {},
   "outputs": [
    {
     "name": "stdout",
     "output_type": "stream",
     "text": [
      "BORDER PROCESSING: 9.573695182800293 SEC\n"
     ]
    }
   ],
   "source": [
    "arr_len = len(ids)\n",
    "arr_type = ctypes.c_int * arr_len\n",
    "arr_c = arr_type(*ids)\n",
    "border_number = 0\n",
    "library.update_border_info.argtypes = (ctypes.POINTER(ctypes.c_int), ctypes.c_int, ctypes.c_int)\n",
    "library.update_border_info(arr_c, arr_len, border_number)\n",
    "e = time.time()\n",
    "print(\"BORDER PROCESSING:\", e - s, \"SEC\")"
   ]
  },
  {
   "cell_type": "code",
   "execution_count": 18,
   "id": "56601572-096a-4ff0-9b1f-884f08229e08",
   "metadata": {},
   "outputs": [
    {
     "data": {
      "text/plain": [
       "0"
      ]
     },
     "execution_count": 18,
     "metadata": {},
     "output_type": "execute_result"
    }
   ],
   "source": [
    "s = time.time()\n",
    "library.combine_hashmaps.argtypes = (ctypes.c_int, ctypes.c_int)\n",
    "library.combine_hashmaps(number_subregions, number_borders)"
   ]
  },
  {
   "cell_type": "code",
   "execution_count": 19,
   "id": "1428f818-3216-40d8-b7ce-6c36bdfb1d19",
   "metadata": {
    "tags": []
   },
   "outputs": [
    {
     "name": "stdout",
     "output_type": "stream",
     "text": [
      "PROCESSING: 0.011550188064575195 SEC\n"
     ]
    }
   ],
   "source": [
    "library.combine_instance_tables.argtypes = (ctypes.c_int, ctypes.c_int)\n",
    "library.combine_instance_tables(number_subregions, number_borders)\n",
    "e = time.time()\n",
    "print(\"PROCESSING:\", e - s, \"SEC\")"
   ]
  },
  {
   "cell_type": "code",
   "execution_count": 20,
   "id": "c0927648-d3e1-4d45-9d60-8a6c8c9d30ed",
   "metadata": {},
   "outputs": [
    {
     "name": "stdout",
     "output_type": "stream",
     "text": [
      "Degree 2 Prevalent Patterns for Entire Region:\n",
      "(0, 1)\n",
      "(0, 2)\n",
      "(0, 3)\n",
      "(1, 2)\n",
      "(1, 6)\n",
      "(2, 3)\n",
      "(2, 5)\n",
      "(2, 7)\n",
      "326 / 545\n",
      "182 / 296\n",
      "1036 / 1358\n",
      "401 / 545\n",
      "1188 / 1358\n",
      "688 / 1007\n",
      "Degree 3 Prevalent Patterns for Entire Region:2:\n",
      "(0, 1, 2)\n",
      "(0, 2, 3)\n",
      "REGION PROCESSING 1.2671544551849365 SEC\n"
     ]
    }
   ],
   "source": [
    "s = time.time()\n",
    "library.region_main()\n",
    "e = time.time()\n",
    "print(\"REGION PROCESSING\", e - s, \"SEC\")"
   ]
  },
  {
   "cell_type": "code",
   "execution_count": 21,
   "id": "669bc156-080a-4a18-b848-0bc38c72e1b8",
   "metadata": {},
   "outputs": [
    {
     "name": "stdout",
     "output_type": "stream",
     "text": [
      "TOTAL TIME:  12.124194145202637\n"
     ]
    }
   ],
   "source": [
    "end = time.time()\n",
    "print(\"TOTAL TIME: \", end - start)"
   ]
  },
  {
   "cell_type": "code",
   "execution_count": 22,
   "id": "4abcbfd7-cb4d-4a0d-9e41-ff4256bd3b46",
   "metadata": {},
   "outputs": [],
   "source": [
    "# region1 total time: 12.124194145202637\n",
    "# region10 total time: \n",
    "# region6 total time:"
   ]
  }
 ],
 "metadata": {
  "kernelspec": {
   "display_name": "Python 3 (ipykernel)",
   "language": "python",
   "name": "python3"
  },
  "language_info": {
   "codemirror_mode": {
    "name": "ipython",
    "version": 3
   },
   "file_extension": ".py",
   "mimetype": "text/x-python",
   "name": "python",
   "nbconvert_exporter": "python",
   "pygments_lexer": "ipython3",
   "version": "3.10.5"
  }
 },
 "nbformat": 4,
 "nbformat_minor": 5
}
